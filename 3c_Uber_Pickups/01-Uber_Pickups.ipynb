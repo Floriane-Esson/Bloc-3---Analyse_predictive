{
 "cells": [
  {
   "cell_type": "markdown",
   "metadata": {},
   "source": [
    "<img src=\"https://upload.wikimedia.org/wikipedia/commons/thumb/5/58/Uber_logo_2018.svg/1024px-Uber_logo_2018.svg.png\" alt=\"UBER LOGO\" width=\"50%\" />\n",
    "\n",
    "# UBER Pickups "
   ]
  },
  {
   "cell_type": "markdown",
   "metadata": {},
   "source": [
    "## Company's Description 📇\n",
    "\n",
    "<a href=\"http://uber.com/\" target=\"_blank\">Uber</a> is one of the most famous startup in the world. It started as a ride-sharing application for people who couldn't afford a taxi. Now, Uber expanded its activities to Food Delivery with <a href=\"https://www.ubereats.com/fr-en\" target=\"_blank\">Uber Eats</a>, package delivery, freight transportation and even urban transportation with <a href=\"https://www.uber.com/fr/en/ride/uber-bike/\" target=\"_blank\"> Jump Bike</a> and <a href=\"https://www.li.me/\" target=\"_blank\"> Lime </a> that the company funded. \n",
    "\n",
    "\n",
    "The company's goal is to revolutionize transportation accross the globe. It operates now on about 70 countries and 900 cities and generates over $14 billion revenue! 😮\n"
   ]
  },
  {
   "cell_type": "markdown",
   "metadata": {},
   "source": [
    "## Project 🚧\n",
    "\n",
    "One of the main pain point that Uber's team found is that sometimes drivers are not around when users need them. For example, a user might be in San Francisco's Financial District whereas Uber drivers are looking for customers in Castro.  \n",
    "\n",
    "(If you are not familiar with the bay area, check out <a href=\"https://www.google.com/maps/place/San+Francisco,+CA,+USA/@37.7515389,-122.4567213,13.43z/data=!4m5!3m4!1s0x80859a6d00690021:0x4a501367f076adff!8m2!3d37.7749295!4d-122.4194155\" target=\"_blank\">Google Maps</a>)\n",
    "\n",
    "Eventhough both neighborhood are not that far away, users would still have to wait 10 to 15 minutes before being picked-up, which is too long. Uber's research shows that users accept to wait 5-7 minutes, otherwise they would cancel their ride. \n",
    "\n",
    "Therefore, Uber's data team would like to work on a project where **their app would recommend hot-zones in major cities to be in at any given time of day.**  "
   ]
  },
  {
   "cell_type": "markdown",
   "metadata": {},
   "source": [
    "## Goals 🎯\n",
    "\n",
    "Uber already has data about pickups in major cities. Your objective is to create algorithms that will determine where are the hot-zones that drivers should be in. Therefore you will:\n",
    "\n",
    "* Create an algorithm to find hot zones \n",
    "* Visualize results on a nice dashboard "
   ]
  },
  {
   "cell_type": "markdown",
   "metadata": {},
   "source": [
    "## Scope of this project 🖼️\n",
    "\n",
    "To start off, Uber wants to try this feature in New York city. Therefore you will only focus on this city. Data can be found here: \n",
    "\n",
    "👉👉<a href=\"https://full-stack-bigdata-datasets.s3.eu-west-3.amazonaws.com/Machine+Learning+non+Supervis%C3%A9/Projects/uber-trip-data.zip\" target=\"_blank\"> Uber Trip Data</a> 👈👈\n",
    "\n",
    "**You only need to focus on New York City for this project**"
   ]
  },
  {
   "cell_type": "markdown",
   "metadata": {},
   "source": [
    "## Helpers 🦮\n",
    "\n",
    "To help you achieve this project, here are a few tips that should help you: \n",
    "\n",
    "### Clustering is your friend \n",
    "\n",
    "Clustering technics are a perfect fit for the job. Think about it, all the pickup locations can be gathered into different clusters. You can then use **cluster coordinates to pin hot zones** 😉\n",
    "    \n",
    "\n",
    "### Create maps with `plotly` \n",
    "\n",
    "Check out <a href=\"https://plotly.com/\" target=\"_blank\">Plotly</a> documentation, you can create maps and populate them easily. Obviously, there are other libraries but this one should do the job pretty well. \n",
    "\n",
    "\n",
    "### Start small grow big \n",
    "\n",
    "Eventhough Uber wants to have hot-zones per hour and per day of week, you should first **start small**. Pick one day at a given hour and **then start to generalize** your approach. "
   ]
  },
  {
   "cell_type": "markdown",
   "metadata": {},
   "source": [
    "## Deliverable 📬\n",
    "\n",
    "To complete this project, your team should: \n",
    "\n",
    "* Have a map with hot-zones using any python library (`plotly` or anything else). \n",
    "* You should **at least** describe hot-zones per day of week. \n",
    "* Compare results with **at least** two unsupervised algorithms like KMeans and DBScan. \n",
    "\n",
    "Your maps should look something like this: \n",
    "\n",
    "<img src=\"https://full-stack-assets.s3.eu-west-3.amazonaws.com/images/Clusters_uber_pickups.png\" alt=\"Uber Cluster Map\" />"
   ]
  },
  {
   "cell_type": "markdown",
   "metadata": {},
   "source": [
    "# I. EDA "
   ]
  },
  {
   "cell_type": "markdown",
   "metadata": {},
   "source": [
    "## Import libraries"
   ]
  },
  {
   "cell_type": "code",
   "execution_count": 1,
   "metadata": {},
   "outputs": [
    {
     "name": "stdout",
     "output_type": "stream",
     "text": [
      "Requirement already satisfied: plotly in /opt/conda/lib/python3.9/site-packages (5.5.0)\n",
      "Requirement already satisfied: tenacity>=6.2.0 in /opt/conda/lib/python3.9/site-packages (from plotly) (8.0.1)\n",
      "Requirement already satisfied: six in /opt/conda/lib/python3.9/site-packages (from plotly) (1.16.0)\n"
     ]
    }
   ],
   "source": [
    "# install plotly\n",
    "!pip install plotly"
   ]
  },
  {
   "cell_type": "code",
   "execution_count": 2,
   "metadata": {},
   "outputs": [],
   "source": [
    "# import Libraries\n",
    "import pandas as pd\n",
    "import numpy as np\n",
    "from sklearn.preprocessing import StandardScaler, OneHotEncoder\n",
    "from sklearn.compose import ColumnTransformer\n",
    "from sklearn.cluster import KMeans, DBSCAN\n",
    "import plotly.express as px\n",
    "from sklearn.metrics import silhouette_score"
   ]
  },
  {
   "cell_type": "markdown",
   "metadata": {},
   "source": [
    "## Load dataset"
   ]
  },
  {
   "cell_type": "code",
   "execution_count": 3,
   "metadata": {},
   "outputs": [],
   "source": [
    "# Load the dataset\n",
    "uber = pd.read_csv(\"Data/uber-raw-data-jul14.csv\")"
   ]
  },
  {
   "cell_type": "markdown",
   "metadata": {},
   "source": [
    "## Basic info & stats of the data"
   ]
  },
  {
   "cell_type": "code",
   "execution_count": 5,
   "metadata": {},
   "outputs": [
    {
     "name": "stdout",
     "output_type": "stream",
     "text": [
      "Uber pickups data :\n"
     ]
    },
    {
     "data": {
      "text/html": [
       "<div>\n",
       "<style scoped>\n",
       "    .dataframe tbody tr th:only-of-type {\n",
       "        vertical-align: middle;\n",
       "    }\n",
       "\n",
       "    .dataframe tbody tr th {\n",
       "        vertical-align: top;\n",
       "    }\n",
       "\n",
       "    .dataframe thead th {\n",
       "        text-align: right;\n",
       "    }\n",
       "</style>\n",
       "<table border=\"1\" class=\"dataframe\">\n",
       "  <thead>\n",
       "    <tr style=\"text-align: right;\">\n",
       "      <th></th>\n",
       "      <th>Date/Time</th>\n",
       "      <th>Lat</th>\n",
       "      <th>Lon</th>\n",
       "      <th>Base</th>\n",
       "    </tr>\n",
       "  </thead>\n",
       "  <tbody>\n",
       "    <tr>\n",
       "      <th>0</th>\n",
       "      <td>7/1/2014 0:03:00</td>\n",
       "      <td>40.7586</td>\n",
       "      <td>-73.9706</td>\n",
       "      <td>B02512</td>\n",
       "    </tr>\n",
       "    <tr>\n",
       "      <th>1</th>\n",
       "      <td>7/1/2014 0:05:00</td>\n",
       "      <td>40.7605</td>\n",
       "      <td>-73.9994</td>\n",
       "      <td>B02512</td>\n",
       "    </tr>\n",
       "    <tr>\n",
       "      <th>2</th>\n",
       "      <td>7/1/2014 0:06:00</td>\n",
       "      <td>40.7320</td>\n",
       "      <td>-73.9999</td>\n",
       "      <td>B02512</td>\n",
       "    </tr>\n",
       "    <tr>\n",
       "      <th>3</th>\n",
       "      <td>7/1/2014 0:09:00</td>\n",
       "      <td>40.7635</td>\n",
       "      <td>-73.9793</td>\n",
       "      <td>B02512</td>\n",
       "    </tr>\n",
       "    <tr>\n",
       "      <th>4</th>\n",
       "      <td>7/1/2014 0:20:00</td>\n",
       "      <td>40.7204</td>\n",
       "      <td>-74.0047</td>\n",
       "      <td>B02512</td>\n",
       "    </tr>\n",
       "    <tr>\n",
       "      <th>...</th>\n",
       "      <td>...</td>\n",
       "      <td>...</td>\n",
       "      <td>...</td>\n",
       "      <td>...</td>\n",
       "    </tr>\n",
       "    <tr>\n",
       "      <th>796116</th>\n",
       "      <td>7/31/2014 23:22:00</td>\n",
       "      <td>40.7285</td>\n",
       "      <td>-73.9846</td>\n",
       "      <td>B02764</td>\n",
       "    </tr>\n",
       "    <tr>\n",
       "      <th>796117</th>\n",
       "      <td>7/31/2014 23:23:00</td>\n",
       "      <td>40.7615</td>\n",
       "      <td>-73.9868</td>\n",
       "      <td>B02764</td>\n",
       "    </tr>\n",
       "    <tr>\n",
       "      <th>796118</th>\n",
       "      <td>7/31/2014 23:29:00</td>\n",
       "      <td>40.6770</td>\n",
       "      <td>-73.9515</td>\n",
       "      <td>B02764</td>\n",
       "    </tr>\n",
       "    <tr>\n",
       "      <th>796119</th>\n",
       "      <td>7/31/2014 23:30:00</td>\n",
       "      <td>40.7225</td>\n",
       "      <td>-74.0038</td>\n",
       "      <td>B02764</td>\n",
       "    </tr>\n",
       "    <tr>\n",
       "      <th>796120</th>\n",
       "      <td>7/31/2014 23:58:00</td>\n",
       "      <td>40.7199</td>\n",
       "      <td>-73.9884</td>\n",
       "      <td>B02764</td>\n",
       "    </tr>\n",
       "  </tbody>\n",
       "</table>\n",
       "<p>796121 rows × 4 columns</p>\n",
       "</div>"
      ],
      "text/plain": [
       "                 Date/Time      Lat      Lon    Base\n",
       "0         7/1/2014 0:03:00  40.7586 -73.9706  B02512\n",
       "1         7/1/2014 0:05:00  40.7605 -73.9994  B02512\n",
       "2         7/1/2014 0:06:00  40.7320 -73.9999  B02512\n",
       "3         7/1/2014 0:09:00  40.7635 -73.9793  B02512\n",
       "4         7/1/2014 0:20:00  40.7204 -74.0047  B02512\n",
       "...                    ...      ...      ...     ...\n",
       "796116  7/31/2014 23:22:00  40.7285 -73.9846  B02764\n",
       "796117  7/31/2014 23:23:00  40.7615 -73.9868  B02764\n",
       "796118  7/31/2014 23:29:00  40.6770 -73.9515  B02764\n",
       "796119  7/31/2014 23:30:00  40.7225 -74.0038  B02764\n",
       "796120  7/31/2014 23:58:00  40.7199 -73.9884  B02764\n",
       "\n",
       "[796121 rows x 4 columns]"
      ]
     },
     "metadata": {},
     "output_type": "display_data"
    },
    {
     "name": "stdout",
     "output_type": "stream",
     "text": [
      "<class 'pandas.core.frame.DataFrame'>\n",
      "RangeIndex: 796121 entries, 0 to 796120\n",
      "Data columns (total 4 columns):\n",
      " #   Column     Non-Null Count   Dtype  \n",
      "---  ------     --------------   -----  \n",
      " 0   Date/Time  796121 non-null  object \n",
      " 1   Lat        796121 non-null  float64\n",
      " 2   Lon        796121 non-null  float64\n",
      " 3   Base       796121 non-null  object \n",
      "dtypes: float64(2), object(2)\n",
      "memory usage: 24.3+ MB\n"
     ]
    },
    {
     "data": {
      "text/plain": [
       "None"
      ]
     },
     "metadata": {},
     "output_type": "display_data"
    },
    {
     "name": "stdout",
     "output_type": "stream",
     "text": [
      "Basics statistics: \n"
     ]
    },
    {
     "data": {
      "text/html": [
       "<div>\n",
       "<style scoped>\n",
       "    .dataframe tbody tr th:only-of-type {\n",
       "        vertical-align: middle;\n",
       "    }\n",
       "\n",
       "    .dataframe tbody tr th {\n",
       "        vertical-align: top;\n",
       "    }\n",
       "\n",
       "    .dataframe thead th {\n",
       "        text-align: right;\n",
       "    }\n",
       "</style>\n",
       "<table border=\"1\" class=\"dataframe\">\n",
       "  <thead>\n",
       "    <tr style=\"text-align: right;\">\n",
       "      <th></th>\n",
       "      <th>Date/Time</th>\n",
       "      <th>Lat</th>\n",
       "      <th>Lon</th>\n",
       "      <th>Base</th>\n",
       "    </tr>\n",
       "  </thead>\n",
       "  <tbody>\n",
       "    <tr>\n",
       "      <th>count</th>\n",
       "      <td>796121</td>\n",
       "      <td>796121.000000</td>\n",
       "      <td>796121.000000</td>\n",
       "      <td>796121</td>\n",
       "    </tr>\n",
       "    <tr>\n",
       "      <th>unique</th>\n",
       "      <td>44286</td>\n",
       "      <td>NaN</td>\n",
       "      <td>NaN</td>\n",
       "      <td>5</td>\n",
       "    </tr>\n",
       "    <tr>\n",
       "      <th>top</th>\n",
       "      <td>7/15/2014 19:30:00</td>\n",
       "      <td>NaN</td>\n",
       "      <td>NaN</td>\n",
       "      <td>B02617</td>\n",
       "    </tr>\n",
       "    <tr>\n",
       "      <th>freq</th>\n",
       "      <td>79</td>\n",
       "      <td>NaN</td>\n",
       "      <td>NaN</td>\n",
       "      <td>310160</td>\n",
       "    </tr>\n",
       "    <tr>\n",
       "      <th>mean</th>\n",
       "      <td>NaN</td>\n",
       "      <td>40.739141</td>\n",
       "      <td>-73.972353</td>\n",
       "      <td>NaN</td>\n",
       "    </tr>\n",
       "    <tr>\n",
       "      <th>std</th>\n",
       "      <td>NaN</td>\n",
       "      <td>0.040551</td>\n",
       "      <td>0.058660</td>\n",
       "      <td>NaN</td>\n",
       "    </tr>\n",
       "    <tr>\n",
       "      <th>min</th>\n",
       "      <td>NaN</td>\n",
       "      <td>39.721400</td>\n",
       "      <td>-74.826000</td>\n",
       "      <td>NaN</td>\n",
       "    </tr>\n",
       "    <tr>\n",
       "      <th>25%</th>\n",
       "      <td>NaN</td>\n",
       "      <td>40.720900</td>\n",
       "      <td>-73.996100</td>\n",
       "      <td>NaN</td>\n",
       "    </tr>\n",
       "    <tr>\n",
       "      <th>50%</th>\n",
       "      <td>NaN</td>\n",
       "      <td>40.742500</td>\n",
       "      <td>-73.983200</td>\n",
       "      <td>NaN</td>\n",
       "    </tr>\n",
       "    <tr>\n",
       "      <th>75%</th>\n",
       "      <td>NaN</td>\n",
       "      <td>40.760800</td>\n",
       "      <td>-73.965100</td>\n",
       "      <td>NaN</td>\n",
       "    </tr>\n",
       "    <tr>\n",
       "      <th>max</th>\n",
       "      <td>NaN</td>\n",
       "      <td>41.341300</td>\n",
       "      <td>-72.309700</td>\n",
       "      <td>NaN</td>\n",
       "    </tr>\n",
       "  </tbody>\n",
       "</table>\n",
       "</div>"
      ],
      "text/plain": [
       "                 Date/Time            Lat            Lon    Base\n",
       "count               796121  796121.000000  796121.000000  796121\n",
       "unique               44286            NaN            NaN       5\n",
       "top     7/15/2014 19:30:00            NaN            NaN  B02617\n",
       "freq                    79            NaN            NaN  310160\n",
       "mean                   NaN      40.739141     -73.972353     NaN\n",
       "std                    NaN       0.040551       0.058660     NaN\n",
       "min                    NaN      39.721400     -74.826000     NaN\n",
       "25%                    NaN      40.720900     -73.996100     NaN\n",
       "50%                    NaN      40.742500     -73.983200     NaN\n",
       "75%                    NaN      40.760800     -73.965100     NaN\n",
       "max                    NaN      41.341300     -72.309700     NaN"
      ]
     },
     "metadata": {},
     "output_type": "display_data"
    },
    {
     "name": "stdout",
     "output_type": "stream",
     "text": [
      "Percentage of missing values : \n"
     ]
    },
    {
     "data": {
      "text/plain": [
       "Base         0.0\n",
       "Lon          0.0\n",
       "Lat          0.0\n",
       "Date/Time    0.0\n",
       "dtype: float64"
      ]
     },
     "metadata": {},
     "output_type": "display_data"
    }
   ],
   "source": [
    "print(\"Uber pickups data :\")\n",
    "display(uber)\n",
    "\n",
    "display(uber.info())\n",
    "\n",
    "print(\"Basics statistics: \")\n",
    "display(uber.describe(include=\"all\"))\n",
    "\n",
    "print(\"Percentage of missing values : \")\n",
    "display((uber.isna().sum()/uber.shape[0]*100).sort_values(ascending=False))"
   ]
  },
  {
   "cell_type": "code",
   "execution_count": 5,
   "metadata": {},
   "outputs": [
    {
     "data": {
      "text/plain": [
       "B02617    310160\n",
       "B02598    245597\n",
       "B02682    196754\n",
       "B02512     35021\n",
       "B02764      8589\n",
       "Name: Base, dtype: int64"
      ]
     },
     "execution_count": 5,
     "metadata": {},
     "output_type": "execute_result"
    }
   ],
   "source": [
    "uber['Base'].value_counts()"
   ]
  },
  {
   "cell_type": "markdown",
   "metadata": {},
   "source": [
    "# II. First clustering on only one day / one hour"
   ]
  },
  {
   "cell_type": "markdown",
   "metadata": {},
   "source": [
    "#### Create data selection"
   ]
  },
  {
   "cell_type": "code",
   "execution_count": 4,
   "metadata": {},
   "outputs": [],
   "source": [
    "# convert \"Date/time\" to datetime format\n",
    "uber[\"Date/Time\"] = pd.to_datetime(uber[\"Date/Time\"])"
   ]
  },
  {
   "cell_type": "code",
   "execution_count": 5,
   "metadata": {},
   "outputs": [
    {
     "data": {
      "text/plain": [
       "Timestamp('2014-07-01 00:03:00')"
      ]
     },
     "execution_count": 5,
     "metadata": {},
     "output_type": "execute_result"
    }
   ],
   "source": [
    "uber[\"Date/Time\"][0]"
   ]
  },
  {
   "cell_type": "code",
   "execution_count": 6,
   "metadata": {},
   "outputs": [],
   "source": [
    "uber_d1 = uber.copy()"
   ]
  },
  {
   "cell_type": "code",
   "execution_count": 7,
   "metadata": {},
   "outputs": [
    {
     "data": {
      "text/html": [
       "<div>\n",
       "<style scoped>\n",
       "    .dataframe tbody tr th:only-of-type {\n",
       "        vertical-align: middle;\n",
       "    }\n",
       "\n",
       "    .dataframe tbody tr th {\n",
       "        vertical-align: top;\n",
       "    }\n",
       "\n",
       "    .dataframe thead th {\n",
       "        text-align: right;\n",
       "    }\n",
       "</style>\n",
       "<table border=\"1\" class=\"dataframe\">\n",
       "  <thead>\n",
       "    <tr style=\"text-align: right;\">\n",
       "      <th></th>\n",
       "      <th>Date/Time</th>\n",
       "      <th>Lat</th>\n",
       "      <th>Lon</th>\n",
       "      <th>Base</th>\n",
       "    </tr>\n",
       "  </thead>\n",
       "  <tbody>\n",
       "    <tr>\n",
       "      <th>249</th>\n",
       "      <td>2014-07-01 11:00:00</td>\n",
       "      <td>40.7571</td>\n",
       "      <td>-73.9744</td>\n",
       "      <td>B02512</td>\n",
       "    </tr>\n",
       "    <tr>\n",
       "      <th>250</th>\n",
       "      <td>2014-07-01 11:00:00</td>\n",
       "      <td>40.8584</td>\n",
       "      <td>-73.9346</td>\n",
       "      <td>B02512</td>\n",
       "    </tr>\n",
       "    <tr>\n",
       "      <th>251</th>\n",
       "      <td>2014-07-01 11:03:00</td>\n",
       "      <td>40.7582</td>\n",
       "      <td>-73.9653</td>\n",
       "      <td>B02512</td>\n",
       "    </tr>\n",
       "    <tr>\n",
       "      <th>252</th>\n",
       "      <td>2014-07-01 11:03:00</td>\n",
       "      <td>40.7210</td>\n",
       "      <td>-74.0084</td>\n",
       "      <td>B02512</td>\n",
       "    </tr>\n",
       "    <tr>\n",
       "      <th>253</th>\n",
       "      <td>2014-07-01 11:04:00</td>\n",
       "      <td>40.7559</td>\n",
       "      <td>-73.9833</td>\n",
       "      <td>B02512</td>\n",
       "    </tr>\n",
       "    <tr>\n",
       "      <th>...</th>\n",
       "      <td>...</td>\n",
       "      <td>...</td>\n",
       "      <td>...</td>\n",
       "      <td>...</td>\n",
       "    </tr>\n",
       "    <tr>\n",
       "      <th>787597</th>\n",
       "      <td>2014-07-01 11:30:00</td>\n",
       "      <td>40.7712</td>\n",
       "      <td>-73.9811</td>\n",
       "      <td>B02764</td>\n",
       "    </tr>\n",
       "    <tr>\n",
       "      <th>787598</th>\n",
       "      <td>2014-07-01 11:34:00</td>\n",
       "      <td>40.6824</td>\n",
       "      <td>-73.9617</td>\n",
       "      <td>B02764</td>\n",
       "    </tr>\n",
       "    <tr>\n",
       "      <th>787599</th>\n",
       "      <td>2014-07-01 11:36:00</td>\n",
       "      <td>40.7365</td>\n",
       "      <td>-73.9933</td>\n",
       "      <td>B02764</td>\n",
       "    </tr>\n",
       "    <tr>\n",
       "      <th>787600</th>\n",
       "      <td>2014-07-01 11:46:00</td>\n",
       "      <td>40.7488</td>\n",
       "      <td>-73.9756</td>\n",
       "      <td>B02764</td>\n",
       "    </tr>\n",
       "    <tr>\n",
       "      <th>787601</th>\n",
       "      <td>2014-07-01 11:47:00</td>\n",
       "      <td>40.7560</td>\n",
       "      <td>-73.9728</td>\n",
       "      <td>B02764</td>\n",
       "    </tr>\n",
       "  </tbody>\n",
       "</table>\n",
       "<p>795 rows × 4 columns</p>\n",
       "</div>"
      ],
      "text/plain": [
       "                 Date/Time      Lat      Lon    Base\n",
       "249    2014-07-01 11:00:00  40.7571 -73.9744  B02512\n",
       "250    2014-07-01 11:00:00  40.8584 -73.9346  B02512\n",
       "251    2014-07-01 11:03:00  40.7582 -73.9653  B02512\n",
       "252    2014-07-01 11:03:00  40.7210 -74.0084  B02512\n",
       "253    2014-07-01 11:04:00  40.7559 -73.9833  B02512\n",
       "...                    ...      ...      ...     ...\n",
       "787597 2014-07-01 11:30:00  40.7712 -73.9811  B02764\n",
       "787598 2014-07-01 11:34:00  40.6824 -73.9617  B02764\n",
       "787599 2014-07-01 11:36:00  40.7365 -73.9933  B02764\n",
       "787600 2014-07-01 11:46:00  40.7488 -73.9756  B02764\n",
       "787601 2014-07-01 11:47:00  40.7560 -73.9728  B02764\n",
       "\n",
       "[795 rows x 4 columns]"
      ]
     },
     "metadata": {},
     "output_type": "display_data"
    }
   ],
   "source": [
    "# For the first analyse, we will focus only on one day and one hour of this day\n",
    "# We will keep 2014-07-01 at 11 a.m.\n",
    "mask = (uber_d1['Date/Time'] >= '2014-07-01 11:00:00') & (uber_d1['Date/Time'] < '2014-07-01 12:00:00')\n",
    "selecthour=uber_d1.loc[mask]\n",
    "display(selecthour)"
   ]
  },
  {
   "cell_type": "markdown",
   "metadata": {},
   "source": [
    "#### Preprocessing"
   ]
  },
  {
   "cell_type": "code",
   "execution_count": 8,
   "metadata": {},
   "outputs": [
    {
     "name": "stdout",
     "output_type": "stream",
     "text": [
      "Preprocessing on features ... \n",
      "[[ 0.39146691  0.02590775  0.          0.          0.          0.        ]\n",
      " [ 3.13674293  0.94967072  0.          0.          0.          0.        ]\n",
      " [ 0.42127741  0.23711989  0.          0.          0.          0.        ]\n",
      " [-0.58685949 -0.76323649  0.          0.          0.          0.        ]\n",
      " [ 0.35894637 -0.18066236  0.          0.          0.          0.        ]]\n",
      "...Done.\n"
     ]
    }
   ],
   "source": [
    "# preprocessing on features\n",
    "numeric_features = [1,2]\n",
    "categorical_features = [3]\n",
    "\n",
    "numeric_transformer = StandardScaler()\n",
    "categorical_transformer = OneHotEncoder(drop=\"first\")\n",
    "\n",
    "preprocessor = ColumnTransformer(\n",
    "    transformers=[\n",
    "    ('num', numeric_transformer, numeric_features),\n",
    "    ('cat', categorical_transformer, categorical_features)\n",
    "    ])\n",
    "\n",
    "print(\"Preprocessing on features ... \")\n",
    "X = preprocessor.fit_transform(selecthour)\n",
    "print(X[:5])\n",
    "print(\"...Done.\")"
   ]
  },
  {
   "cell_type": "markdown",
   "metadata": {},
   "source": [
    "#### KMeans model"
   ]
  },
  {
   "cell_type": "markdown",
   "metadata": {},
   "source": [
    "##### Fine optimized k"
   ]
  },
  {
   "cell_type": "code",
   "execution_count": 9,
   "metadata": {},
   "outputs": [
    {
     "name": "stdout",
     "output_type": "stream",
     "text": [
      "CPU times: user 3 µs, sys: 0 ns, total: 3 µs\n",
      "Wall time: 6.91 µs\n",
      "[2, 3, 4, 5, 6, 7, 8]\n",
      "[1638.0297632408503, 1306.6418680181177, 1138.3392593446918, 990.1501804099037, 858.4326618336308, 749.639289652669, 674.546688563885]\n"
     ]
    }
   ],
   "source": [
    "# Elbow method to find \"best\" k\n",
    "\n",
    "%time\n",
    "wcss =  []\n",
    "k = []\n",
    "for i in range (2,9): \n",
    "    kmeans = KMeans(n_clusters= i, random_state = 0)\n",
    "    kmeans.fit(X)\n",
    "    wcss.append(kmeans.inertia_)\n",
    "    k.append(i)\n",
    "\n",
    "print(k)\n",
    "print(wcss)"
   ]
  },
  {
   "cell_type": "code",
   "execution_count": 10,
   "metadata": {},
   "outputs": [
    {
     "data": {
      "text/html": [
       "<iframe\n",
       "    scrolling=\"no\"\n",
       "    width=\"100%\"\n",
       "    height=\"545px\"\n",
       "    src=\"iframe_figures/figure_10.html\"\n",
       "    frameborder=\"0\"\n",
       "    allowfullscreen\n",
       "></iframe>\n"
      ]
     },
     "metadata": {},
     "output_type": "display_data"
    }
   ],
   "source": [
    "# Create figure\n",
    "fig= px.line( x=k, y=wcss)\n",
    "fig.show(renderer=\"iframe\")"
   ]
  },
  {
   "cell_type": "code",
   "execution_count": 11,
   "metadata": {},
   "outputs": [
    {
     "name": "stdout",
     "output_type": "stream",
     "text": [
      "CPU times: user 2 µs, sys: 0 ns, total: 2 µs\n",
      "Wall time: 6.68 µs\n",
      "[2, 3, 4, 5, 6, 7, 8]\n",
      "[0.5373276860954993, 0.23643531130135434, 0.2519051401397063, 0.2775838851582872, 0.37028392630747514, 0.3856420346755343, 0.3573816591796094]\n"
     ]
    }
   ],
   "source": [
    "# Silhouette method to refine our hypothesis for k\n",
    "\n",
    "%time\n",
    "sil = []\n",
    "k = []\n",
    "for i in range (2,9): \n",
    "    kmeans = KMeans(n_clusters= i, random_state = 0)\n",
    "    kmeans.fit(X)\n",
    "    sil.append(silhouette_score(X, kmeans.labels_))\n",
    "    k.append(i)\n",
    "\n",
    "print(k)\n",
    "print(sil)"
   ]
  },
  {
   "cell_type": "code",
   "execution_count": 12,
   "metadata": {},
   "outputs": [
    {
     "data": {
      "text/html": [
       "<iframe\n",
       "    scrolling=\"no\"\n",
       "    width=\"100%\"\n",
       "    height=\"545px\"\n",
       "    src=\"iframe_figures/figure_12.html\"\n",
       "    frameborder=\"0\"\n",
       "    allowfullscreen\n",
       "></iframe>\n"
      ]
     },
     "metadata": {},
     "output_type": "display_data"
    }
   ],
   "source": [
    "# Create figure\n",
    "fig= px.bar( x=k, y=sil)\n",
    "fig.show(renderer=\"iframe\")"
   ]
  },
  {
   "cell_type": "markdown",
   "metadata": {},
   "source": [
    "##### KMeans with optimized k"
   ]
  },
  {
   "cell_type": "code",
   "execution_count": 13,
   "metadata": {},
   "outputs": [
    {
     "data": {
      "text/plain": [
       "KMeans(n_clusters=4, random_state=0)"
      ]
     },
     "execution_count": 13,
     "metadata": {},
     "output_type": "execute_result"
    }
   ],
   "source": [
    "# Create KMeans instance\n",
    "kmeans = KMeans (n_clusters = 4, random_state=0)\n",
    "\n",
    "# Apply KMeans on X\n",
    "kmeans.fit(X)"
   ]
  },
  {
   "cell_type": "code",
   "execution_count": 14,
   "metadata": {},
   "outputs": [
    {
     "data": {
      "text/plain": [
       "array([[ 0.44869032, -0.05181067,  0.28470588,  0.34117647,  0.29176471,\n",
       "         0.01411765],\n",
       "       [-0.80264144, -0.39050265,  0.38338658,  0.32268371,  0.23322684,\n",
       "         0.00958466],\n",
       "       [-1.56518589,  4.24024747,  0.33333333,  0.26666667,  0.4       ,\n",
       "         0.        ],\n",
       "       [ 2.00026603,  1.92007498,  0.4047619 ,  0.23809524,  0.30952381,\n",
       "         0.        ]])"
      ]
     },
     "execution_count": 14,
     "metadata": {},
     "output_type": "execute_result"
    }
   ],
   "source": [
    "kmeans.cluster_centers_"
   ]
  },
  {
   "cell_type": "code",
   "execution_count": 15,
   "metadata": {},
   "outputs": [
    {
     "name": "stderr",
     "output_type": "stream",
     "text": [
      "/tmp/ipykernel_90/1760165314.py:2: SettingWithCopyWarning:\n",
      "\n",
      "\n",
      "A value is trying to be set on a copy of a slice from a DataFrame.\n",
      "Try using .loc[row_indexer,col_indexer] = value instead\n",
      "\n",
      "See the caveats in the documentation: https://pandas.pydata.org/pandas-docs/stable/user_guide/indexing.html#returning-a-view-versus-a-copy\n",
      "\n"
     ]
    },
    {
     "data": {
      "text/html": [
       "<div>\n",
       "<style scoped>\n",
       "    .dataframe tbody tr th:only-of-type {\n",
       "        vertical-align: middle;\n",
       "    }\n",
       "\n",
       "    .dataframe tbody tr th {\n",
       "        vertical-align: top;\n",
       "    }\n",
       "\n",
       "    .dataframe thead th {\n",
       "        text-align: right;\n",
       "    }\n",
       "</style>\n",
       "<table border=\"1\" class=\"dataframe\">\n",
       "  <thead>\n",
       "    <tr style=\"text-align: right;\">\n",
       "      <th></th>\n",
       "      <th>Date/Time</th>\n",
       "      <th>Lat</th>\n",
       "      <th>Lon</th>\n",
       "      <th>Base</th>\n",
       "      <th>Cluster_KMeans</th>\n",
       "    </tr>\n",
       "  </thead>\n",
       "  <tbody>\n",
       "    <tr>\n",
       "      <th>249</th>\n",
       "      <td>2014-07-01 11:00:00</td>\n",
       "      <td>40.7571</td>\n",
       "      <td>-73.9744</td>\n",
       "      <td>B02512</td>\n",
       "      <td>0</td>\n",
       "    </tr>\n",
       "    <tr>\n",
       "      <th>250</th>\n",
       "      <td>2014-07-01 11:00:00</td>\n",
       "      <td>40.8584</td>\n",
       "      <td>-73.9346</td>\n",
       "      <td>B02512</td>\n",
       "      <td>3</td>\n",
       "    </tr>\n",
       "    <tr>\n",
       "      <th>251</th>\n",
       "      <td>2014-07-01 11:03:00</td>\n",
       "      <td>40.7582</td>\n",
       "      <td>-73.9653</td>\n",
       "      <td>B02512</td>\n",
       "      <td>0</td>\n",
       "    </tr>\n",
       "    <tr>\n",
       "      <th>252</th>\n",
       "      <td>2014-07-01 11:03:00</td>\n",
       "      <td>40.7210</td>\n",
       "      <td>-74.0084</td>\n",
       "      <td>B02512</td>\n",
       "      <td>1</td>\n",
       "    </tr>\n",
       "    <tr>\n",
       "      <th>253</th>\n",
       "      <td>2014-07-01 11:04:00</td>\n",
       "      <td>40.7559</td>\n",
       "      <td>-73.9833</td>\n",
       "      <td>B02512</td>\n",
       "      <td>0</td>\n",
       "    </tr>\n",
       "  </tbody>\n",
       "</table>\n",
       "</div>"
      ],
      "text/plain": [
       "              Date/Time      Lat      Lon    Base  Cluster_KMeans\n",
       "249 2014-07-01 11:00:00  40.7571 -73.9744  B02512               0\n",
       "250 2014-07-01 11:00:00  40.8584 -73.9346  B02512               3\n",
       "251 2014-07-01 11:03:00  40.7582 -73.9653  B02512               0\n",
       "252 2014-07-01 11:03:00  40.7210 -74.0084  B02512               1\n",
       "253 2014-07-01 11:04:00  40.7559 -73.9833  B02512               0"
      ]
     },
     "metadata": {},
     "output_type": "display_data"
    },
    {
     "name": "stdout",
     "output_type": "stream",
     "text": [
      "\n",
      "0    425\n",
      "1    313\n",
      "3     42\n",
      "2     15\n",
      "Name: Cluster_KMeans, dtype: int64\n",
      "\n"
     ]
    }
   ],
   "source": [
    "# Add new column on dataset with results of KMeans\n",
    "selecthour[\"Cluster_KMeans\"] = kmeans.labels_\n",
    "display(selecthour.head())\n",
    "print()\n",
    "print(selecthour[\"Cluster_KMeans\"].value_counts())\n",
    "print()"
   ]
  },
  {
   "cell_type": "code",
   "execution_count": 16,
   "metadata": {},
   "outputs": [
    {
     "data": {
      "text/html": [
       "<iframe\n",
       "    scrolling=\"no\"\n",
       "    width=\"100%\"\n",
       "    height=\"545px\"\n",
       "    src=\"iframe_figures/figure_16.html\"\n",
       "    frameborder=\"0\"\n",
       "    allowfullscreen\n",
       "></iframe>\n"
      ]
     },
     "metadata": {},
     "output_type": "display_data"
    }
   ],
   "source": [
    "# Create a scatter mapbox with KMeans clusters\n",
    "fig = px.scatter_mapbox(selecthour, lat=\"Lat\", lon=\"Lon\", zoom=10, color=\"Cluster_KMeans\", mapbox_style=\"carto-positron\")\n",
    "fig.show(renderer=\"iframe_connected\")"
   ]
  },
  {
   "cell_type": "markdown",
   "metadata": {},
   "source": [
    "#### DBScan model"
   ]
  },
  {
   "cell_type": "code",
   "execution_count": 71,
   "metadata": {},
   "outputs": [
    {
     "data": {
      "text/plain": [
       "DBSCAN(eps=0.6, metric='manhattan', min_samples=40)"
      ]
     },
     "execution_count": 71,
     "metadata": {},
     "output_type": "execute_result"
    }
   ],
   "source": [
    "# DBScan\n",
    "db = DBSCAN(eps=0.6, min_samples=40, metric = 'manhattan')\n",
    "db.fit(X)"
   ]
  },
  {
   "cell_type": "code",
   "execution_count": 72,
   "metadata": {},
   "outputs": [
    {
     "data": {
      "text/plain": [
       "array([-1,  0,  1,  2])"
      ]
     },
     "execution_count": 72,
     "metadata": {},
     "output_type": "execute_result"
    }
   ],
   "source": [
    "# Clusters created by DBScan\n",
    "np.unique(db.labels_)"
   ]
  },
  {
   "cell_type": "code",
   "execution_count": 73,
   "metadata": {},
   "outputs": [
    {
     "name": "stderr",
     "output_type": "stream",
     "text": [
      "/tmp/ipykernel_90/2947649724.py:2: SettingWithCopyWarning:\n",
      "\n",
      "\n",
      "A value is trying to be set on a copy of a slice from a DataFrame.\n",
      "Try using .loc[row_indexer,col_indexer] = value instead\n",
      "\n",
      "See the caveats in the documentation: https://pandas.pydata.org/pandas-docs/stable/user_guide/indexing.html#returning-a-view-versus-a-copy\n",
      "\n"
     ]
    },
    {
     "data": {
      "text/html": [
       "<div>\n",
       "<style scoped>\n",
       "    .dataframe tbody tr th:only-of-type {\n",
       "        vertical-align: middle;\n",
       "    }\n",
       "\n",
       "    .dataframe tbody tr th {\n",
       "        vertical-align: top;\n",
       "    }\n",
       "\n",
       "    .dataframe thead th {\n",
       "        text-align: right;\n",
       "    }\n",
       "</style>\n",
       "<table border=\"1\" class=\"dataframe\">\n",
       "  <thead>\n",
       "    <tr style=\"text-align: right;\">\n",
       "      <th></th>\n",
       "      <th>Date/Time</th>\n",
       "      <th>Lat</th>\n",
       "      <th>Lon</th>\n",
       "      <th>Base</th>\n",
       "      <th>Cluster_KMeans</th>\n",
       "      <th>Cluster_DBScan</th>\n",
       "    </tr>\n",
       "  </thead>\n",
       "  <tbody>\n",
       "    <tr>\n",
       "      <th>249</th>\n",
       "      <td>2014-07-01 11:00:00</td>\n",
       "      <td>40.7571</td>\n",
       "      <td>-73.9744</td>\n",
       "      <td>B02512</td>\n",
       "      <td>0</td>\n",
       "      <td>-1</td>\n",
       "    </tr>\n",
       "    <tr>\n",
       "      <th>250</th>\n",
       "      <td>2014-07-01 11:00:00</td>\n",
       "      <td>40.8584</td>\n",
       "      <td>-73.9346</td>\n",
       "      <td>B02512</td>\n",
       "      <td>3</td>\n",
       "      <td>-1</td>\n",
       "    </tr>\n",
       "    <tr>\n",
       "      <th>251</th>\n",
       "      <td>2014-07-01 11:03:00</td>\n",
       "      <td>40.7582</td>\n",
       "      <td>-73.9653</td>\n",
       "      <td>B02512</td>\n",
       "      <td>0</td>\n",
       "      <td>-1</td>\n",
       "    </tr>\n",
       "    <tr>\n",
       "      <th>252</th>\n",
       "      <td>2014-07-01 11:03:00</td>\n",
       "      <td>40.7210</td>\n",
       "      <td>-74.0084</td>\n",
       "      <td>B02512</td>\n",
       "      <td>1</td>\n",
       "      <td>-1</td>\n",
       "    </tr>\n",
       "    <tr>\n",
       "      <th>253</th>\n",
       "      <td>2014-07-01 11:04:00</td>\n",
       "      <td>40.7559</td>\n",
       "      <td>-73.9833</td>\n",
       "      <td>B02512</td>\n",
       "      <td>0</td>\n",
       "      <td>-1</td>\n",
       "    </tr>\n",
       "  </tbody>\n",
       "</table>\n",
       "</div>"
      ],
      "text/plain": [
       "              Date/Time      Lat      Lon    Base  Cluster_KMeans  \\\n",
       "249 2014-07-01 11:00:00  40.7571 -73.9744  B02512               0   \n",
       "250 2014-07-01 11:00:00  40.8584 -73.9346  B02512               3   \n",
       "251 2014-07-01 11:03:00  40.7582 -73.9653  B02512               0   \n",
       "252 2014-07-01 11:03:00  40.7210 -74.0084  B02512               1   \n",
       "253 2014-07-01 11:04:00  40.7559 -73.9833  B02512               0   \n",
       "\n",
       "     Cluster_DBScan  \n",
       "249              -1  \n",
       "250              -1  \n",
       "251              -1  \n",
       "252              -1  \n",
       "253              -1  "
      ]
     },
     "metadata": {},
     "output_type": "display_data"
    },
    {
     "name": "stdout",
     "output_type": "stream",
     "text": [
      "\n",
      "-1    223\n",
      " 1    203\n",
      " 0    202\n",
      " 2    167\n",
      "Name: Cluster_DBScan, dtype: int64\n",
      "\n"
     ]
    }
   ],
   "source": [
    "# Add new column on dataset with results of DBScan\n",
    "selecthour[\"Cluster_DBScan\"] = db.labels_\n",
    "display(selecthour.head())\n",
    "print()\n",
    "print(selecthour[\"Cluster_DBScan\"].value_counts())\n",
    "print()"
   ]
  },
  {
   "cell_type": "code",
   "execution_count": 74,
   "metadata": {},
   "outputs": [
    {
     "data": {
      "text/html": [
       "<iframe\n",
       "    scrolling=\"no\"\n",
       "    width=\"100%\"\n",
       "    height=\"545px\"\n",
       "    src=\"iframe_figures/figure_74.html\"\n",
       "    frameborder=\"0\"\n",
       "    allowfullscreen\n",
       "></iframe>\n"
      ]
     },
     "metadata": {},
     "output_type": "display_data"
    }
   ],
   "source": [
    "#Visualize all clusters (except outliers : -1) with DBScan results\n",
    "fig = px.scatter_mapbox(selecthour[selecthour[\"Cluster_DBScan\"] != -1], \n",
    "                        lat='Lat', lon='Lon', color='Cluster_DBScan', \n",
    "                        mapbox_style=\"open-street-map\", zoom = 10)\n",
    "fig.show(renderer=\"iframe_connected\")"
   ]
  },
  {
   "cell_type": "markdown",
   "metadata": {},
   "source": [
    "# III. Clustering on more data"
   ]
  },
  {
   "cell_type": "markdown",
   "metadata": {},
   "source": [
    "### DBScan"
   ]
  },
  {
   "cell_type": "code",
   "execution_count": 99,
   "metadata": {},
   "outputs": [],
   "source": [
    "# Create sample for testing hyperparameters\n",
    "uber_sample = uber.sample(70000)"
   ]
  },
  {
   "cell_type": "code",
   "execution_count": 100,
   "metadata": {},
   "outputs": [
    {
     "name": "stdout",
     "output_type": "stream",
     "text": [
      "Preprocessing on features ... \n",
      "[[ 0.04891627 -0.55314556  0.          1.          0.          0.        ]\n",
      " [-0.59422257 -0.40673752  0.          1.          0.          0.        ]\n",
      " [-0.49162066 -0.55484798  0.          1.          0.          0.        ]\n",
      " [-1.95307234  4.19490104  0.          1.          0.          0.        ]\n",
      " [ 0.42178665 -0.37609398  1.          0.          0.          0.        ]]\n",
      "...Done.\n"
     ]
    }
   ],
   "source": [
    "# preprocessing on features\n",
    "numeric_features = [1,2]\n",
    "categorical_features = [3]\n",
    "\n",
    "numeric_transformer = StandardScaler()\n",
    "categorical_transformer = OneHotEncoder(drop=\"first\")\n",
    "\n",
    "preprocessor = ColumnTransformer(\n",
    "    transformers=[\n",
    "    ('num', numeric_transformer, numeric_features),\n",
    "    ('cat', categorical_transformer, categorical_features)\n",
    "    ])\n",
    "\n",
    "print(\"Preprocessing on features ... \")\n",
    "X2 = preprocessor.fit_transform(uber_sample)\n",
    "print(X2[:5])\n",
    "print(\"...Done.\")"
   ]
  },
  {
   "cell_type": "code",
   "execution_count": 140,
   "metadata": {},
   "outputs": [
    {
     "data": {
      "text/plain": [
       "DBSCAN(eps=0.3, metric='manhattan', min_samples=2000)"
      ]
     },
     "execution_count": 140,
     "metadata": {},
     "output_type": "execute_result"
    }
   ],
   "source": [
    "# DBScan\n",
    "db1 = DBSCAN(eps=0.3, min_samples=2000, metric='manhattan')\n",
    "db1.fit(X2)\n",
    "\n",
    "# 0.7 / 500"
   ]
  },
  {
   "cell_type": "code",
   "execution_count": 141,
   "metadata": {},
   "outputs": [
    {
     "data": {
      "text/plain": [
       "array([-1,  0,  1,  2])"
      ]
     },
     "execution_count": 141,
     "metadata": {},
     "output_type": "execute_result"
    }
   ],
   "source": [
    "np.unique(db1.labels_)"
   ]
  },
  {
   "cell_type": "code",
   "execution_count": 142,
   "metadata": {},
   "outputs": [
    {
     "data": {
      "text/html": [
       "<div>\n",
       "<style scoped>\n",
       "    .dataframe tbody tr th:only-of-type {\n",
       "        vertical-align: middle;\n",
       "    }\n",
       "\n",
       "    .dataframe tbody tr th {\n",
       "        vertical-align: top;\n",
       "    }\n",
       "\n",
       "    .dataframe thead th {\n",
       "        text-align: right;\n",
       "    }\n",
       "</style>\n",
       "<table border=\"1\" class=\"dataframe\">\n",
       "  <thead>\n",
       "    <tr style=\"text-align: right;\">\n",
       "      <th></th>\n",
       "      <th>Date/Time</th>\n",
       "      <th>Lat</th>\n",
       "      <th>Lon</th>\n",
       "      <th>Base</th>\n",
       "      <th>Cluster_DBScan</th>\n",
       "    </tr>\n",
       "  </thead>\n",
       "  <tbody>\n",
       "    <tr>\n",
       "      <th>530412</th>\n",
       "      <td>2014-07-26 21:51:00</td>\n",
       "      <td>40.7409</td>\n",
       "      <td>-74.0050</td>\n",
       "      <td>B02617</td>\n",
       "      <td>0</td>\n",
       "    </tr>\n",
       "    <tr>\n",
       "      <th>451445</th>\n",
       "      <td>2014-07-20 01:31:00</td>\n",
       "      <td>40.7152</td>\n",
       "      <td>-73.9964</td>\n",
       "      <td>B02617</td>\n",
       "      <td>0</td>\n",
       "    </tr>\n",
       "    <tr>\n",
       "      <th>576783</th>\n",
       "      <td>2014-07-31 00:08:00</td>\n",
       "      <td>40.7193</td>\n",
       "      <td>-74.0051</td>\n",
       "      <td>B02617</td>\n",
       "      <td>0</td>\n",
       "    </tr>\n",
       "    <tr>\n",
       "      <th>448118</th>\n",
       "      <td>2014-07-19 20:27:00</td>\n",
       "      <td>40.6609</td>\n",
       "      <td>-73.7261</td>\n",
       "      <td>B02617</td>\n",
       "      <td>-1</td>\n",
       "    </tr>\n",
       "    <tr>\n",
       "      <th>62563</th>\n",
       "      <td>2014-07-04 23:14:00</td>\n",
       "      <td>40.7558</td>\n",
       "      <td>-73.9946</td>\n",
       "      <td>B02598</td>\n",
       "      <td>1</td>\n",
       "    </tr>\n",
       "  </tbody>\n",
       "</table>\n",
       "</div>"
      ],
      "text/plain": [
       "                 Date/Time      Lat      Lon    Base  Cluster_DBScan\n",
       "530412 2014-07-26 21:51:00  40.7409 -74.0050  B02617               0\n",
       "451445 2014-07-20 01:31:00  40.7152 -73.9964  B02617               0\n",
       "576783 2014-07-31 00:08:00  40.7193 -74.0051  B02617               0\n",
       "448118 2014-07-19 20:27:00  40.6609 -73.7261  B02617              -1\n",
       "62563  2014-07-04 23:14:00  40.7558 -73.9946  B02598               1"
      ]
     },
     "metadata": {},
     "output_type": "display_data"
    },
    {
     "name": "stdout",
     "output_type": "stream",
     "text": [
      "\n",
      "-1    27062\n",
      " 0    18356\n",
      " 1    13989\n",
      " 2    10593\n",
      "Name: Cluster_DBScan, dtype: int64\n",
      "\n"
     ]
    }
   ],
   "source": [
    "# Add new column on dataset with results of DBScan\n",
    "uber_sample[\"Cluster_DBScan\"] = db1.labels_\n",
    "display(uber_sample.head())\n",
    "print()\n",
    "print(uber_sample[\"Cluster_DBScan\"].value_counts())\n",
    "print()"
   ]
  },
  {
   "cell_type": "code",
   "execution_count": 143,
   "metadata": {},
   "outputs": [
    {
     "data": {
      "text/html": [
       "<iframe\n",
       "    scrolling=\"no\"\n",
       "    width=\"100%\"\n",
       "    height=\"545px\"\n",
       "    src=\"iframe_figures/figure_143.html\"\n",
       "    frameborder=\"0\"\n",
       "    allowfullscreen\n",
       "></iframe>\n"
      ]
     },
     "metadata": {},
     "output_type": "display_data"
    }
   ],
   "source": [
    "#Visualize all clusters (except outliers : -1) with DBScan results\n",
    "fig = px.scatter_mapbox(uber_sample[uber_sample[\"Cluster_DBScan\"] != -1], \n",
    "                        lat='Lat', lon='Lon', color='Cluster_DBScan', \n",
    "                        mapbox_style=\"open-street-map\", zoom = 10)\n",
    "fig.show(renderer=\"iframe_connected\")"
   ]
  },
  {
   "cell_type": "code",
   "execution_count": 144,
   "metadata": {},
   "outputs": [
    {
     "data": {
      "text/html": [
       "<iframe\n",
       "    scrolling=\"no\"\n",
       "    width=\"100%\"\n",
       "    height=\"545px\"\n",
       "    src=\"iframe_figures/figure_144.html\"\n",
       "    frameborder=\"0\"\n",
       "    allowfullscreen\n",
       "></iframe>\n"
      ]
     },
     "metadata": {},
     "output_type": "display_data"
    }
   ],
   "source": [
    "#Visualize all clusters (with outliers : -1) with DBScan results\n",
    "fig = px.scatter_mapbox(uber_sample, \n",
    "                        lat='Lat', lon='Lon', color='Cluster_DBScan', \n",
    "                        mapbox_style=\"open-street-map\", zoom = 10)\n",
    "fig.show(renderer=\"iframe_connected\")"
   ]
  },
  {
   "cell_type": "code",
   "execution_count": null,
   "metadata": {},
   "outputs": [],
   "source": []
  }
 ],
 "metadata": {
  "kernelspec": {
   "display_name": "Python 3 (ipykernel)",
   "language": "python",
   "name": "python3"
  },
  "language_info": {
   "codemirror_mode": {
    "name": "ipython",
    "version": 3
   },
   "file_extension": ".py",
   "mimetype": "text/x-python",
   "name": "python",
   "nbconvert_exporter": "python",
   "pygments_lexer": "ipython3",
   "version": "3.9.7"
  }
 },
 "nbformat": 4,
 "nbformat_minor": 4
}
